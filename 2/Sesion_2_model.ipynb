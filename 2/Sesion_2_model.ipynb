{
  "cells": [
    {
      "cell_type": "code",
      "execution_count": 1,
      "id": "f556440d-d89a-43ac-a24c-24d3b10bbac2",
      "metadata": {
        "colab": {
          "base_uri": "https://localhost:8080/",
          "height": 393
        },
        "id": "f556440d-d89a-43ac-a24c-24d3b10bbac2",
        "outputId": "14e739bf-95de-4fdd-b621-25f57971db33"
      },
      "outputs": [],
      "source": [
        "import pandas as pd\n",
        "from sklearn.decomposition import PCA\n",
        "from sklearn.preprocessing import StandardScaler\n",
        "import matplotlib.pyplot as plt\n",
        "from sklearn.preprocessing import LabelEncoder\n",
        "import numpy as np\n",
        "from sklearn.impute import SimpleImputer\n",
        "from catboost import CatBoostClassifier\n",
        "import seaborn as sns\n",
        "#from sklearn.metrics import classification_report, confusion_matrix\n",
        "from sklearn.model_selection import train_test_split\n",
        "\n",
        "# Modelado y preprocesamiento\n",
        "#from sklearn.ensemble import RandomForestClassifier, GradientBoostingClassifier\n",
        "#from sklearn.linear_model import LogisticRegression\n",
        "from sklearn.pipeline import Pipeline\n",
        "from sklearn.model_selection import GridSearchCV,KFold\n",
        "\n",
        "# Métricas\n",
        "from sklearn.metrics import (\n",
        "    classification_report,\n",
        "    confusion_matrix,\n",
        "    ConfusionMatrixDisplay,\n",
        "    RocCurveDisplay,\n",
        "    roc_auc_score\n",
        ")\n",
        "\n",
        "\n",
        "\n",
        "#from kmodes.kprototypes import KPrototypes"
      ]
    },
    {
      "cell_type": "code",
      "execution_count": 2,
      "id": "5643fb31-7aed-4363-b6e9-54d31fa7304d",
      "metadata": {
        "id": "5643fb31-7aed-4363-b6e9-54d31fa7304d"
      },
      "outputs": [],
      "source": [
        "# Set options to display all rows and columns\n",
        "pd.set_option('display.max_rows', None)\n",
        "pd.set_option('display.max_columns', None)\n",
        "pd.set_option('display.width', 1000) # Adjust width for better display of many columns\n",
        "pd.set_option('display.max_colwidth', None) # Display full content of cells"
      ]
    },
    {
      "cell_type": "code",
      "execution_count": 3,
      "id": "bd793fc6-3428-4858-a02f-e312c5b37b1b",
      "metadata": {
        "id": "bd793fc6-3428-4858-a02f-e312c5b37b1b"
      },
      "outputs": [],
      "source": [
        "categorical_variables = ['phone_carrier','phone_disposable_validation','phone_ported_original_carrier',\n",
        "                         'phone_ported_validation','email_deliverable_validation','email_disposable_validation',\n",
        "                        'email_domain_free_provider_flag','email_is_breached_flag','website_exists']"
      ]
    },
    {
      "cell_type": "code",
      "execution_count": 4,
      "id": "922d67ff-0483-4df1-8b33-28aeff0797f3",
      "metadata": {
        "id": "922d67ff-0483-4df1-8b33-28aeff0797f3"
      },
      "outputs": [],
      "source": [
        "model_data = pd.read_csv(\"data_clean.csv\")"
      ]
    },
    {
      "cell_type": "code",
      "execution_count": 5,
      "id": "e3905782-b745-4904-8766-2d8ca74fd68c",
      "metadata": {
        "id": "e3905782-b745-4904-8766-2d8ca74fd68c",
        "outputId": "2650c074-2169-4e4f-c695-761c9efd98cd"
      },
      "outputs": [
        {
          "name": "stdout",
          "output_type": "stream",
          "text": [
            "<class 'pandas.core.frame.DataFrame'>\n",
            "RangeIndex: 9129 entries, 0 to 9128\n",
            "Data columns (total 30 columns):\n",
            " #   Column                                                 Non-Null Count  Dtype  \n",
            "---  ------                                                 --------------  -----  \n",
            " 0   phone_carrier                                          9129 non-null   object \n",
            " 1   phone_disposable_validation                            9129 non-null   bool   \n",
            " 2   phone_ported_original_carrier                          9129 non-null   object \n",
            " 3   phone_ported_validation                                9129 non-null   bool   \n",
            " 4   phone_social_number_of_names_returned                  9129 non-null   int64  \n",
            " 5   phone_social_number_of_photos_returned                 9129 non-null   int64  \n",
            " 6   phone_social_registered_ecommerce_profiles             9129 non-null   int64  \n",
            " 7   phone_social_registered_email_provider_profiles        9129 non-null   int64  \n",
            " 8   phone_social_registered_messaging_profiles             9129 non-null   int64  \n",
            " 9   phone_social_registered_professional_profiles          9129 non-null   int64  \n",
            " 10  phone_social_registered_profiles                       9129 non-null   int64  \n",
            " 11  phone_social_registered_social_media_profiles          9129 non-null   int64  \n",
            " 12  email_deliverable_validation                           9129 non-null   bool   \n",
            " 13  email_disposable_validation                            9129 non-null   bool   \n",
            " 14  email_domain_free_provider_flag                        9129 non-null   bool   \n",
            " 15  email_is_breached_flag                                 9129 non-null   bool   \n",
            " 16  email_number_of_breaches                               9129 non-null   float64\n",
            " 17  email_social_number_of_names_returned                  9129 non-null   float64\n",
            " 18  email_social_number_of_photos_returned                 9129 non-null   float64\n",
            " 19  email_social_registered_consumer_electronics_profiles  9129 non-null   float64\n",
            " 20  email_social_registered_ecommerce_profiles             9129 non-null   float64\n",
            " 21  email_social_registered_email_provider_profiles        9129 non-null   float64\n",
            " 22  email_social_registered_entertainment_profiles         9129 non-null   float64\n",
            " 23  email_social_registered_messaging_profiles             9129 non-null   float64\n",
            " 24  email_social_registered_professional_profiles          9129 non-null   float64\n",
            " 25  email_social_registered_profiles                       9129 non-null   float64\n",
            " 26  email_social_registered_social_media_profiles          9129 non-null   float64\n",
            " 27  email_social_registered_travel_profiles                9129 non-null   float64\n",
            " 28  website_exists                                         9129 non-null   bool   \n",
            " 29  label                                                  9129 non-null   int64  \n",
            "dtypes: bool(7), float64(12), int64(9), object(2)\n",
            "memory usage: 1.7+ MB\n"
          ]
        }
      ],
      "source": [
        "model_data.info()"
      ]
    },
    {
      "cell_type": "code",
      "execution_count": 7,
      "id": "09ea945d-e469-41db-92fc-2aa10207cafc",
      "metadata": {
        "id": "09ea945d-e469-41db-92fc-2aa10207cafc"
      },
      "outputs": [],
      "source": [
        "y = model_data['label']\n",
        "model_data_train = model_data.drop('label',axis=1)"
      ]
    },
    {
      "cell_type": "code",
      "execution_count": 8,
      "id": "4e0623e8-c221-4bc8-8d46-ca6fbabd4e7d",
      "metadata": {
        "id": "4e0623e8-c221-4bc8-8d46-ca6fbabd4e7d",
        "outputId": "5cc58909-12c8-4810-9006-add8dd1b4e2f"
      },
      "outputs": [
        {
          "name": "stdout",
          "output_type": "stream",
          "text": [
            "<class 'pandas.core.frame.DataFrame'>\n",
            "RangeIndex: 9129 entries, 0 to 9128\n",
            "Data columns (total 29 columns):\n",
            " #   Column                                                 Non-Null Count  Dtype  \n",
            "---  ------                                                 --------------  -----  \n",
            " 0   phone_carrier                                          9129 non-null   object \n",
            " 1   phone_disposable_validation                            9129 non-null   bool   \n",
            " 2   phone_ported_original_carrier                          9129 non-null   object \n",
            " 3   phone_ported_validation                                9129 non-null   bool   \n",
            " 4   phone_social_number_of_names_returned                  9129 non-null   int64  \n",
            " 5   phone_social_number_of_photos_returned                 9129 non-null   int64  \n",
            " 6   phone_social_registered_ecommerce_profiles             9129 non-null   int64  \n",
            " 7   phone_social_registered_email_provider_profiles        9129 non-null   int64  \n",
            " 8   phone_social_registered_messaging_profiles             9129 non-null   int64  \n",
            " 9   phone_social_registered_professional_profiles          9129 non-null   int64  \n",
            " 10  phone_social_registered_profiles                       9129 non-null   int64  \n",
            " 11  phone_social_registered_social_media_profiles          9129 non-null   int64  \n",
            " 12  email_deliverable_validation                           9129 non-null   bool   \n",
            " 13  email_disposable_validation                            9129 non-null   bool   \n",
            " 14  email_domain_free_provider_flag                        9129 non-null   bool   \n",
            " 15  email_is_breached_flag                                 9129 non-null   bool   \n",
            " 16  email_number_of_breaches                               9129 non-null   float64\n",
            " 17  email_social_number_of_names_returned                  9129 non-null   float64\n",
            " 18  email_social_number_of_photos_returned                 9129 non-null   float64\n",
            " 19  email_social_registered_consumer_electronics_profiles  9129 non-null   float64\n",
            " 20  email_social_registered_ecommerce_profiles             9129 non-null   float64\n",
            " 21  email_social_registered_email_provider_profiles        9129 non-null   float64\n",
            " 22  email_social_registered_entertainment_profiles         9129 non-null   float64\n",
            " 23  email_social_registered_messaging_profiles             9129 non-null   float64\n",
            " 24  email_social_registered_professional_profiles          9129 non-null   float64\n",
            " 25  email_social_registered_profiles                       9129 non-null   float64\n",
            " 26  email_social_registered_social_media_profiles          9129 non-null   float64\n",
            " 27  email_social_registered_travel_profiles                9129 non-null   float64\n",
            " 28  website_exists                                         9129 non-null   bool   \n",
            "dtypes: bool(7), float64(12), int64(8), object(2)\n",
            "memory usage: 1.6+ MB\n"
          ]
        }
      ],
      "source": [
        "model_data_train.info()"
      ]
    },
    {
      "cell_type": "markdown",
      "id": "4bd8ffca-9e63-461e-bf8e-281ffbeca21f",
      "metadata": {
        "id": "4bd8ffca-9e63-461e-bf8e-281ffbeca21f"
      },
      "source": [
        "<h3> Catboost Classifier </h3>"
      ]
    },
    {
      "cell_type": "code",
      "execution_count": 9,
      "id": "ed8e6bb6-79dc-4d07-b528-43616f05096e",
      "metadata": {
        "id": "ed8e6bb6-79dc-4d07-b528-43616f05096e"
      },
      "outputs": [],
      "source": [
        "X_train, X_test, y_train, y_test = train_test_split(model_data_train, y, test_size=0.2, random_state=42)"
      ]
    },
    {
      "cell_type": "code",
      "execution_count": 10,
      "id": "aaca0642-5edb-42ee-be33-74b2c3fcab81",
      "metadata": {
        "id": "aaca0642-5edb-42ee-be33-74b2c3fcab81"
      },
      "outputs": [],
      "source": [
        "pos_count = sum(y)"
      ]
    },
    {
      "cell_type": "code",
      "execution_count": 11,
      "id": "f0d4e8cd-73b4-4c19-aeb6-35cec8af1f89",
      "metadata": {
        "id": "f0d4e8cd-73b4-4c19-aeb6-35cec8af1f89",
        "outputId": "164bcf36-f3b1-49dd-8743-c8b83ac57890"
      },
      "outputs": [
        {
          "data": {
            "text/plain": [
              "644"
            ]
          },
          "execution_count": 11,
          "metadata": {},
          "output_type": "execute_result"
        }
      ],
      "source": [
        "pos_count"
      ]
    },
    {
      "cell_type": "code",
      "execution_count": 12,
      "id": "5e803bd8-c38c-42b0-89da-720aa3217547",
      "metadata": {
        "id": "5e803bd8-c38c-42b0-89da-720aa3217547"
      },
      "outputs": [],
      "source": [
        "neg_count = len(model_data_train) - pos_count"
      ]
    },
    {
      "cell_type": "code",
      "execution_count": 13,
      "id": "ad03b408-17a3-4d2a-a430-fa7e8602ffa9",
      "metadata": {
        "id": "ad03b408-17a3-4d2a-a430-fa7e8602ffa9",
        "outputId": "600193e9-40a0-480b-e022-ec2a6868d053"
      },
      "outputs": [
        {
          "data": {
            "text/plain": [
              "8485"
            ]
          },
          "execution_count": 13,
          "metadata": {},
          "output_type": "execute_result"
        }
      ],
      "source": [
        "neg_count"
      ]
    },
    {
      "cell_type": "code",
      "execution_count": 14,
      "id": "5f137460-8b44-4712-93d7-eec5ce452eee",
      "metadata": {
        "id": "5f137460-8b44-4712-93d7-eec5ce452eee",
        "outputId": "709f507e-7519-4a55-82e9-5fb2fa20a8b1"
      },
      "outputs": [
        {
          "name": "stdout",
          "output_type": "stream",
          "text": [
            "Calculated scale_pos_weight: 13.175465838509316\n"
          ]
        }
      ],
      "source": [
        "scale_pos_weight_value = neg_count / pos_count\n",
        "\n",
        "print(f\"Calculated scale_pos_weight: {scale_pos_weight_value}\")"
      ]
    },
    {
      "cell_type": "code",
      "execution_count": 15,
      "id": "7b777990-8351-4dc5-b55a-5b3a7f7ea62b",
      "metadata": {
        "id": "7b777990-8351-4dc5-b55a-5b3a7f7ea62b"
      },
      "outputs": [],
      "source": [
        "base_model = CatBoostClassifier(iterations=100,\n",
        "                               depth=6,\n",
        "                               learning_rate=0.1,\n",
        "                               loss_function='Logloss',\n",
        "                               cat_features=categorical_variables,\n",
        "                               eval_metric='F1',\n",
        "                               verbose=True,\n",
        "                               scale_pos_weight=scale_pos_weight_value\n",
        "                              )"
      ]
    },
    {
      "cell_type": "code",
      "execution_count": 16,
      "id": "3dc49e9e-1a48-4101-bca0-fccabd73a4ac",
      "metadata": {
        "id": "3dc49e9e-1a48-4101-bca0-fccabd73a4ac",
        "outputId": "1b152bd0-2965-467a-df4d-169af380c8ce"
      },
      "outputs": [
        {
          "name": "stdout",
          "output_type": "stream",
          "text": [
            "0:\tlearn: 0.6570932\ttotal: 148ms\tremaining: 14.6s\n",
            "1:\tlearn: 0.5943596\ttotal: 172ms\tremaining: 8.4s\n",
            "2:\tlearn: 0.5923449\ttotal: 197ms\tremaining: 6.36s\n",
            "3:\tlearn: 0.6136128\ttotal: 222ms\tremaining: 5.32s\n",
            "4:\tlearn: 0.6197993\ttotal: 232ms\tremaining: 4.41s\n",
            "5:\tlearn: 0.6144828\ttotal: 257ms\tremaining: 4.03s\n",
            "6:\tlearn: 0.6222115\ttotal: 272ms\tremaining: 3.61s\n",
            "7:\tlearn: 0.6289514\ttotal: 290ms\tremaining: 3.33s\n",
            "8:\tlearn: 0.6230620\ttotal: 311ms\tremaining: 3.14s\n",
            "9:\tlearn: 0.6143322\ttotal: 335ms\tremaining: 3.02s\n",
            "10:\tlearn: 0.6189358\ttotal: 355ms\tremaining: 2.87s\n",
            "11:\tlearn: 0.6221422\ttotal: 379ms\tremaining: 2.78s\n",
            "12:\tlearn: 0.6280510\ttotal: 407ms\tremaining: 2.72s\n",
            "13:\tlearn: 0.6238624\ttotal: 438ms\tremaining: 2.69s\n",
            "14:\tlearn: 0.6275339\ttotal: 465ms\tremaining: 2.63s\n",
            "15:\tlearn: 0.6266817\ttotal: 486ms\tremaining: 2.55s\n",
            "16:\tlearn: 0.6346279\ttotal: 510ms\tremaining: 2.49s\n",
            "17:\tlearn: 0.6364048\ttotal: 522ms\tremaining: 2.38s\n",
            "18:\tlearn: 0.6523959\ttotal: 545ms\tremaining: 2.32s\n",
            "19:\tlearn: 0.6610596\ttotal: 568ms\tremaining: 2.27s\n",
            "20:\tlearn: 0.6708626\ttotal: 593ms\tremaining: 2.23s\n",
            "21:\tlearn: 0.6711440\ttotal: 607ms\tremaining: 2.15s\n",
            "22:\tlearn: 0.6724628\ttotal: 630ms\tremaining: 2.11s\n",
            "23:\tlearn: 0.6711067\ttotal: 640ms\tremaining: 2.03s\n",
            "24:\tlearn: 0.6713840\ttotal: 663ms\tremaining: 1.99s\n",
            "25:\tlearn: 0.6707113\ttotal: 687ms\tremaining: 1.96s\n",
            "26:\tlearn: 0.6745218\ttotal: 705ms\tremaining: 1.91s\n",
            "27:\tlearn: 0.6722823\ttotal: 728ms\tremaining: 1.87s\n",
            "28:\tlearn: 0.6771587\ttotal: 752ms\tremaining: 1.84s\n",
            "29:\tlearn: 0.6826726\ttotal: 776ms\tremaining: 1.81s\n",
            "30:\tlearn: 0.6853796\ttotal: 799ms\tremaining: 1.78s\n",
            "31:\tlearn: 0.6900304\ttotal: 823ms\tremaining: 1.75s\n",
            "32:\tlearn: 0.6938611\ttotal: 852ms\tremaining: 1.73s\n",
            "33:\tlearn: 0.6933917\ttotal: 869ms\tremaining: 1.69s\n",
            "34:\tlearn: 0.6936910\ttotal: 894ms\tremaining: 1.66s\n",
            "35:\tlearn: 0.6936438\ttotal: 902ms\tremaining: 1.6s\n",
            "36:\tlearn: 0.6956505\ttotal: 926ms\tremaining: 1.58s\n",
            "37:\tlearn: 0.6939646\ttotal: 951ms\tremaining: 1.55s\n",
            "38:\tlearn: 0.6949430\ttotal: 976ms\tremaining: 1.53s\n",
            "39:\tlearn: 0.6984309\ttotal: 1000ms\tremaining: 1.5s\n",
            "40:\tlearn: 0.6979590\ttotal: 1.02s\tremaining: 1.47s\n",
            "41:\tlearn: 0.7010297\ttotal: 1.05s\tremaining: 1.45s\n",
            "42:\tlearn: 0.7016930\ttotal: 1.07s\tremaining: 1.42s\n",
            "43:\tlearn: 0.7038112\ttotal: 1.1s\tremaining: 1.4s\n",
            "44:\tlearn: 0.7093093\ttotal: 1.12s\tremaining: 1.37s\n",
            "45:\tlearn: 0.7051721\ttotal: 1.15s\tremaining: 1.35s\n",
            "46:\tlearn: 0.7052769\ttotal: 1.18s\tremaining: 1.33s\n",
            "47:\tlearn: 0.7066231\ttotal: 1.2s\tremaining: 1.3s\n",
            "48:\tlearn: 0.7062883\ttotal: 1.21s\tremaining: 1.26s\n",
            "49:\tlearn: 0.7044323\ttotal: 1.24s\tremaining: 1.24s\n",
            "50:\tlearn: 0.7024358\ttotal: 1.25s\tremaining: 1.2s\n",
            "51:\tlearn: 0.7046620\ttotal: 1.28s\tremaining: 1.18s\n",
            "52:\tlearn: 0.7088311\ttotal: 1.3s\tremaining: 1.15s\n",
            "53:\tlearn: 0.7098947\ttotal: 1.33s\tremaining: 1.13s\n",
            "54:\tlearn: 0.7098947\ttotal: 1.33s\tremaining: 1.09s\n",
            "55:\tlearn: 0.7121776\ttotal: 1.36s\tremaining: 1.07s\n",
            "56:\tlearn: 0.7123238\ttotal: 1.38s\tremaining: 1.04s\n",
            "57:\tlearn: 0.7123635\ttotal: 1.4s\tremaining: 1.01s\n",
            "58:\tlearn: 0.7143002\ttotal: 1.41s\tremaining: 982ms\n",
            "59:\tlearn: 0.7165605\ttotal: 1.44s\tremaining: 959ms\n",
            "60:\tlearn: 0.7176142\ttotal: 1.46s\tremaining: 936ms\n",
            "61:\tlearn: 0.7171959\ttotal: 1.49s\tremaining: 911ms\n",
            "62:\tlearn: 0.7162376\ttotal: 1.5s\tremaining: 883ms\n",
            "63:\tlearn: 0.7162376\ttotal: 1.51s\tremaining: 852ms\n",
            "64:\tlearn: 0.7162376\ttotal: 1.52s\tremaining: 819ms\n",
            "65:\tlearn: 0.7145929\ttotal: 1.54s\tremaining: 794ms\n",
            "66:\tlearn: 0.7145243\ttotal: 1.57s\tremaining: 771ms\n",
            "67:\tlearn: 0.7171615\ttotal: 1.59s\tremaining: 748ms\n",
            "68:\tlearn: 0.7168659\ttotal: 1.6s\tremaining: 720ms\n",
            "69:\tlearn: 0.7172601\ttotal: 1.61s\tremaining: 693ms\n",
            "70:\tlearn: 0.7173094\ttotal: 1.64s\tremaining: 672ms\n",
            "71:\tlearn: 0.7185687\ttotal: 1.67s\tremaining: 651ms\n",
            "72:\tlearn: 0.7172601\ttotal: 1.69s\tremaining: 627ms\n",
            "73:\tlearn: 0.7224343\ttotal: 1.72s\tremaining: 604ms\n",
            "74:\tlearn: 0.7240720\ttotal: 1.74s\tremaining: 581ms\n",
            "75:\tlearn: 0.7269258\ttotal: 1.77s\tremaining: 559ms\n",
            "76:\tlearn: 0.7267221\ttotal: 1.79s\tremaining: 536ms\n",
            "77:\tlearn: 0.7255673\ttotal: 1.82s\tremaining: 514ms\n",
            "78:\tlearn: 0.7279236\ttotal: 1.85s\tremaining: 492ms\n",
            "79:\tlearn: 0.7282748\ttotal: 1.88s\tremaining: 470ms\n",
            "80:\tlearn: 0.7282246\ttotal: 1.89s\tremaining: 444ms\n",
            "81:\tlearn: 0.7279738\ttotal: 1.92s\tremaining: 421ms\n",
            "82:\tlearn: 0.7280239\ttotal: 1.95s\tremaining: 399ms\n",
            "83:\tlearn: 0.7307814\ttotal: 1.98s\tremaining: 376ms\n",
            "84:\tlearn: 0.7281243\ttotal: 2s\tremaining: 353ms\n",
            "85:\tlearn: 0.7310832\ttotal: 2.03s\tremaining: 331ms\n",
            "86:\tlearn: 0.7310832\ttotal: 2.04s\tremaining: 305ms\n",
            "87:\tlearn: 0.7330284\ttotal: 2.05s\tremaining: 280ms\n",
            "88:\tlearn: 0.7326761\ttotal: 2.08s\tremaining: 257ms\n",
            "89:\tlearn: 0.7415424\ttotal: 2.1s\tremaining: 233ms\n",
            "90:\tlearn: 0.7406903\ttotal: 2.12s\tremaining: 210ms\n",
            "91:\tlearn: 0.7404868\ttotal: 2.15s\tremaining: 187ms\n",
            "92:\tlearn: 0.7432217\ttotal: 2.17s\tremaining: 164ms\n",
            "93:\tlearn: 0.7426965\ttotal: 2.2s\tremaining: 140ms\n",
            "94:\tlearn: 0.7470767\ttotal: 2.22s\tremaining: 117ms\n",
            "95:\tlearn: 0.7486197\ttotal: 2.25s\tremaining: 93.6ms\n",
            "96:\tlearn: 0.7474872\ttotal: 2.27s\tremaining: 70.2ms\n",
            "97:\tlearn: 0.7495970\ttotal: 2.29s\tremaining: 46.8ms\n",
            "98:\tlearn: 0.7493910\ttotal: 2.32s\tremaining: 23.4ms\n",
            "99:\tlearn: 0.7552315\ttotal: 2.34s\tremaining: 0us\n"
          ]
        },
        {
          "data": {
            "text/plain": [
              "<catboost.core.CatBoostClassifier at 0x29d9e978710>"
            ]
          },
          "execution_count": 16,
          "metadata": {},
          "output_type": "execute_result"
        }
      ],
      "source": [
        "base_model.fit(X_train, y_train)"
      ]
    },
    {
      "cell_type": "code",
      "execution_count": 17,
      "id": "20bab062-d3bc-45a4-8ebb-5e66f7418d77",
      "metadata": {
        "id": "20bab062-d3bc-45a4-8ebb-5e66f7418d77",
        "outputId": "9359aafd-a69d-4efe-96c8-dfc29b10715a"
      },
      "outputs": [
        {
          "name": "stdout",
          "output_type": "stream",
          "text": [
            "\n",
            "Classification Report:\n",
            "              precision    recall  f1-score   support\n",
            "\n",
            "           0       0.94      0.61      0.74      1700\n",
            "           1       0.08      0.44      0.13       126\n",
            "\n",
            "    accuracy                           0.60      1826\n",
            "   macro avg       0.51      0.53      0.44      1826\n",
            "weighted avg       0.88      0.60      0.70      1826\n",
            "\n"
          ]
        }
      ],
      "source": [
        "# 4. Evaluate the model\n",
        "y_pred = base_model.predict(X_test)\n",
        "print(\"\\nClassification Report:\")\n",
        "print(classification_report(y_test, y_pred))"
      ]
    },
    {
      "cell_type": "code",
      "execution_count": 18,
      "id": "91f037f9-69ca-487d-b48f-0d222f4353a9",
      "metadata": {
        "id": "91f037f9-69ca-487d-b48f-0d222f4353a9",
        "outputId": "9f6a7ba7-7d61-459a-ed41-45782488c8c1"
      },
      "outputs": [
        {
          "name": "stdout",
          "output_type": "stream",
          "text": [
            "                                                  Feature  Importance\n",
            "2                           phone_ported_original_carrier   11.688295\n",
            "10                       phone_social_registered_profiles   10.928113\n",
            "25                       email_social_registered_profiles    9.649132\n",
            "11          phone_social_registered_social_media_profiles    8.342622\n",
            "16                               email_number_of_breaches    7.655931\n",
            "21        email_social_registered_email_provider_profiles    6.791395\n",
            "26          email_social_registered_social_media_profiles    6.585435\n",
            "0                                           phone_carrier    6.344137\n",
            "24          email_social_registered_professional_profiles    6.166218\n",
            "20             email_social_registered_ecommerce_profiles    5.203487\n",
            "15                                 email_is_breached_flag    4.597751\n",
            "3                                 phone_ported_validation    3.509762\n",
            "6              phone_social_registered_ecommerce_profiles    2.388198\n",
            "5                  phone_social_number_of_photos_returned    2.077261\n",
            "9           phone_social_registered_professional_profiles    2.027084\n",
            "7         phone_social_registered_email_provider_profiles    1.653667\n",
            "19  email_social_registered_consumer_electronics_profiles    1.461819\n",
            "8              phone_social_registered_messaging_profiles    0.895635\n",
            "18                 email_social_number_of_photos_returned    0.723573\n",
            "14                        email_domain_free_provider_flag    0.683862\n"
          ]
        }
      ],
      "source": [
        "feature_importances = base_model.get_feature_importance()\n",
        "\n",
        "feature_importances_df = pd.DataFrame({'Feature': model_data_train.columns, 'Importance': feature_importances})\n",
        "feature_importances_df = feature_importances_df.sort_values(by='Importance', ascending=False)\n",
        "\n",
        "print(feature_importances_df.head(20))\n",
        "\n",
        "top_features = feature_importances_df.nlargest(10, 'Importance')['Feature']"
      ]
    },
    {
      "cell_type": "code",
      "execution_count": 19,
      "id": "2cf5ad4e-2a9a-4f72-b2a7-09b2b2cfeb2b",
      "metadata": {
        "id": "2cf5ad4e-2a9a-4f72-b2a7-09b2b2cfeb2b",
        "outputId": "3385ad48-3c29-4d7c-d6bb-be004fff8c6d"
      },
      "outputs": [
        {
          "data": {
            "text/plain": [
              "2                       phone_ported_original_carrier\n",
              "10                   phone_social_registered_profiles\n",
              "25                   email_social_registered_profiles\n",
              "11      phone_social_registered_social_media_profiles\n",
              "16                           email_number_of_breaches\n",
              "21    email_social_registered_email_provider_profiles\n",
              "26      email_social_registered_social_media_profiles\n",
              "0                                       phone_carrier\n",
              "24      email_social_registered_professional_profiles\n",
              "20         email_social_registered_ecommerce_profiles\n",
              "Name: Feature, dtype: object"
            ]
          },
          "execution_count": 19,
          "metadata": {},
          "output_type": "execute_result"
        }
      ],
      "source": [
        "top_features"
      ]
    },
    {
      "cell_type": "code",
      "execution_count": 22,
      "id": "def3dd4f",
      "metadata": {},
      "outputs": [
        {
          "name": "stdout",
          "output_type": "stream",
          "text": [
            "Best parameters: {'depth': 4, 'iterations': 200, 'l2_leaf_reg': 5, 'learning_rate': 0.05, 'scale_pos_weight': 13.175465838509316}\n",
            "Best F1 score: 0.14836264591223688\n"
          ]
        },
        {
          "ename": "ValueError",
          "evalue": "y contains previously unseen labels: 'SUMA MOVIL SAS'",
          "output_type": "error",
          "traceback": [
            "\u001b[1;31m---------------------------------------------------------------------------\u001b[0m",
            "\u001b[1;31mKeyError\u001b[0m                                  Traceback (most recent call last)",
            "File \u001b[1;32mc:\\Users\\edosa\\anaconda3\\Lib\\site-packages\\sklearn\\utils\\_encode.py:225\u001b[0m, in \u001b[0;36m_encode\u001b[1;34m(values, uniques, check_unknown)\u001b[0m\n\u001b[0;32m    224\u001b[0m \u001b[38;5;28;01mtry\u001b[39;00m:\n\u001b[1;32m--> 225\u001b[0m     \u001b[38;5;28;01mreturn\u001b[39;00m _map_to_integer(values, uniques)\n\u001b[0;32m    226\u001b[0m \u001b[38;5;28;01mexcept\u001b[39;00m \u001b[38;5;167;01mKeyError\u001b[39;00m \u001b[38;5;28;01mas\u001b[39;00m e:\n",
            "File \u001b[1;32mc:\\Users\\edosa\\anaconda3\\Lib\\site-packages\\sklearn\\utils\\_encode.py:165\u001b[0m, in \u001b[0;36m_map_to_integer\u001b[1;34m(values, uniques)\u001b[0m\n\u001b[0;32m    164\u001b[0m table \u001b[38;5;241m=\u001b[39m _nandict({val: i \u001b[38;5;28;01mfor\u001b[39;00m i, val \u001b[38;5;129;01min\u001b[39;00m \u001b[38;5;28menumerate\u001b[39m(uniques)})\n\u001b[1;32m--> 165\u001b[0m \u001b[38;5;28;01mreturn\u001b[39;00m np\u001b[38;5;241m.\u001b[39marray([table[v] \u001b[38;5;28;01mfor\u001b[39;00m v \u001b[38;5;129;01min\u001b[39;00m values])\n",
            "File \u001b[1;32mc:\\Users\\edosa\\anaconda3\\Lib\\site-packages\\sklearn\\utils\\_encode.py:159\u001b[0m, in \u001b[0;36m_nandict.__missing__\u001b[1;34m(self, key)\u001b[0m\n\u001b[0;32m    158\u001b[0m     \u001b[38;5;28;01mreturn\u001b[39;00m \u001b[38;5;28mself\u001b[39m\u001b[38;5;241m.\u001b[39mnan_value\n\u001b[1;32m--> 159\u001b[0m \u001b[38;5;28;01mraise\u001b[39;00m \u001b[38;5;167;01mKeyError\u001b[39;00m(key)\n",
            "\u001b[1;31mKeyError\u001b[0m: 'SUMA MOVIL SAS'",
            "\nDuring handling of the above exception, another exception occurred:\n",
            "\u001b[1;31mValueError\u001b[0m                                Traceback (most recent call last)",
            "Cell \u001b[1;32mIn[22], line 38\u001b[0m\n\u001b[0;32m     36\u001b[0m         le \u001b[38;5;241m=\u001b[39m LabelEncoder()\n\u001b[0;32m     37\u001b[0m         X_train_selected[col] \u001b[38;5;241m=\u001b[39m le\u001b[38;5;241m.\u001b[39mfit_transform(X_train_selected[col]\u001b[38;5;241m.\u001b[39mastype(\u001b[38;5;28mstr\u001b[39m))\n\u001b[1;32m---> 38\u001b[0m         X_test_selected[col] \u001b[38;5;241m=\u001b[39m le\u001b[38;5;241m.\u001b[39mtransform(X_test_selected[col]\u001b[38;5;241m.\u001b[39mastype(\u001b[38;5;28mstr\u001b[39m))\n\u001b[0;32m     39\u001b[0m         encoders[col] \u001b[38;5;241m=\u001b[39m le\n\u001b[0;32m     41\u001b[0m \u001b[38;5;66;03m# --- Data Balancing: Try SMOTE Oversampling ---\u001b[39;00m\n",
            "File \u001b[1;32mc:\\Users\\edosa\\anaconda3\\Lib\\site-packages\\sklearn\\preprocessing\\_label.py:137\u001b[0m, in \u001b[0;36mLabelEncoder.transform\u001b[1;34m(self, y)\u001b[0m\n\u001b[0;32m    134\u001b[0m \u001b[38;5;28;01mif\u001b[39;00m _num_samples(y) \u001b[38;5;241m==\u001b[39m \u001b[38;5;241m0\u001b[39m:\n\u001b[0;32m    135\u001b[0m     \u001b[38;5;28;01mreturn\u001b[39;00m np\u001b[38;5;241m.\u001b[39marray([])\n\u001b[1;32m--> 137\u001b[0m \u001b[38;5;28;01mreturn\u001b[39;00m _encode(y, uniques\u001b[38;5;241m=\u001b[39m\u001b[38;5;28mself\u001b[39m\u001b[38;5;241m.\u001b[39mclasses_)\n",
            "File \u001b[1;32mc:\\Users\\edosa\\anaconda3\\Lib\\site-packages\\sklearn\\utils\\_encode.py:227\u001b[0m, in \u001b[0;36m_encode\u001b[1;34m(values, uniques, check_unknown)\u001b[0m\n\u001b[0;32m    225\u001b[0m         \u001b[38;5;28;01mreturn\u001b[39;00m _map_to_integer(values, uniques)\n\u001b[0;32m    226\u001b[0m     \u001b[38;5;28;01mexcept\u001b[39;00m \u001b[38;5;167;01mKeyError\u001b[39;00m \u001b[38;5;28;01mas\u001b[39;00m e:\n\u001b[1;32m--> 227\u001b[0m         \u001b[38;5;28;01mraise\u001b[39;00m \u001b[38;5;167;01mValueError\u001b[39;00m(\u001b[38;5;124mf\u001b[39m\u001b[38;5;124m\"\u001b[39m\u001b[38;5;124my contains previously unseen labels: \u001b[39m\u001b[38;5;132;01m{\u001b[39;00m\u001b[38;5;28mstr\u001b[39m(e)\u001b[38;5;132;01m}\u001b[39;00m\u001b[38;5;124m\"\u001b[39m)\n\u001b[0;32m    228\u001b[0m \u001b[38;5;28;01melse\u001b[39;00m:\n\u001b[0;32m    229\u001b[0m     \u001b[38;5;28;01mif\u001b[39;00m check_unknown:\n",
            "\u001b[1;31mValueError\u001b[0m: y contains previously unseen labels: 'SUMA MOVIL SAS'"
          ]
        }
      ],
      "source": [
        "# --- Hyperparameter Tuning with GridSearchCV ---\n",
        "from sklearn.model_selection import GridSearchCV\n",
        "from catboost import CatBoostClassifier\n",
        "\n",
        "param_grid = {\n",
        "    'iterations': [100, 200],\n",
        "    'depth': [4, 6, 8],\n",
        "    'learning_rate': [0.01, 0.05, 0.1],\n",
        "    'l2_leaf_reg': [1, 3, 5],\n",
        "    'scale_pos_weight': [scale_pos_weight_value, scale_pos_weight_value*0.8, scale_pos_weight_value*1.2]\n",
        "}\n",
        "\n",
        "catboost_grid = CatBoostClassifier(\n",
        "    loss_function='Logloss',\n",
        "    cat_features=categorical_variables,\n",
        "    eval_metric='F1',\n",
        "    verbose=0\n",
        ")\n",
        "\n",
        "grid_search = GridSearchCV(catboost_grid, param_grid, scoring='f1', cv=3, n_jobs=-1)\n",
        "grid_search.fit(X_train, y_train)\n",
        "\n",
        "print('Best parameters:', grid_search.best_params_)\n",
        "print('Best F1 score:', grid_search.best_score_)\n",
        "\n",
        "# --- Feature Selection: Use Top Features ---\n",
        "selected_features = list(top_features)\n",
        "X_train_selected = X_train[selected_features].copy()\n",
        "X_test_selected = X_test[selected_features].copy()\n",
        "\n",
        "# --- Encode categorical features before SMOTE ---\n",
        "from sklearn.preprocessing import LabelEncoder\n",
        "encoders = {}\n",
        "for col in selected_features:\n",
        "    if X_train_selected[col].dtype == 'object':\n",
        "        le = LabelEncoder()\n",
        "        X_train_selected[col] = le.fit_transform(X_train_selected[col].astype(str))\n",
        "        X_test_selected[col] = le.transform(X_test_selected[col].astype(str))\n",
        "        encoders[col] = le\n",
        "\n",
        "# --- Data Balancing: Try SMOTE Oversampling ---\n",
        "from imblearn.over_sampling import SMOTE\n",
        "smote = SMOTE(random_state=42)\n",
        "X_train_bal, y_train_bal = smote.fit_resample(X_train_selected, y_train)\n",
        "\n",
        "# --- Retrain Model with Best Params and Balanced Data ---\n",
        "best_params = grid_search.best_params_\n",
        "balanced_model = CatBoostClassifier(\n",
        "    **best_params,\n",
        "    loss_function='Logloss',\n",
        "    cat_features=categorical_variables,\n",
        "    eval_metric='F1',\n",
        "    verbose=0\n",
        ")\n",
        "balanced_model.fit(X_train_bal, y_train_bal)\n",
        "\n",
        "# --- Predict Probabilities for Threshold Adjustment ---\n",
        "y_pred_proba = balanced_model.predict_proba(X_test_selected)[:,1]\n",
        "\n",
        "# --- Find Best Threshold for Precision/Recall ---\n",
        "from sklearn.metrics import precision_recall_curve\n",
        "precisions, recalls, thresholds = precision_recall_curve(y_test, y_pred_proba)\n",
        "\n",
        "# Example: maximize F1\n",
        "f1_scores = 2*precisions*recalls/(precisions+recalls+1e-8)\n",
        "best_idx = f1_scores.argmax()\n",
        "best_threshold = thresholds[best_idx]\n",
        "print(f'Best threshold for F1: {best_threshold:.2f}')\n",
        "\n",
        "# --- Final Prediction with Best Threshold ---\n",
        "y_pred_final = (y_pred_proba >= best_threshold).astype(int)\n",
        "from sklearn.metrics import classification_report\n",
        "print(classification_report(y_test, y_pred_final))"
      ]
    }
  ],
  "metadata": {
    "colab": {
      "provenance": []
    },
    "kernelspec": {
      "display_name": "base",
      "language": "python",
      "name": "python3"
    },
    "language_info": {
      "codemirror_mode": {
        "name": "ipython",
        "version": 3
      },
      "file_extension": ".py",
      "mimetype": "text/x-python",
      "name": "python",
      "nbconvert_exporter": "python",
      "pygments_lexer": "ipython3",
      "version": "3.12.7"
    }
  },
  "nbformat": 4,
  "nbformat_minor": 5
}
